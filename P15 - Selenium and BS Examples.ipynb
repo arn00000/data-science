{
 "cells": [
  {
   "cell_type": "markdown",
   "metadata": {},
   "source": [
    "<img src=\"https://i.imgur.com/FoKB5Z5.png\" align=\"left\" width=\"300\" height=\"250\" title=\"source: imgur.com\" /></a>"
   ]
  },
  {
   "cell_type": "markdown",
   "metadata": {},
   "source": [
    "## Program Code: J620-002-4:2020 \n",
    "\n",
    "## Program Name: FRONT-END SOFTWARE DEVELOPMENT\n",
    "\n",
    "## Title :  Selenium and BeautifulSoup Examples\n",
    "\n",
    "#### Name: Ooi Caaron\n",
    "\n",
    "#### IC Number: 990701-07-5837\n",
    "\n",
    "#### Date : 4/7/23\n",
    "\n",
    "#### Introduction :  Learning selenium and BeautifulSoup can open the webpage and target by name, id, xpath. Can make it clickable\n",
    "\n",
    "\n",
    "\n",
    "#### Conclusion : Still need to practice more and do revision\n",
    "\n",
    "\n",
    "\n",
    "\n"
   ]
  },
  {
   "cell_type": "markdown",
   "metadata": {},
   "source": [
    "# P15 - Selenium and BeautifulSoup Examples"
   ]
  },
  {
   "cell_type": "code",
   "execution_count": 15,
   "metadata": {},
   "outputs": [],
   "source": [
    "import time\n",
    "\n",
    "from selenium import webdriver\n",
    "from bs4 import BeautifulSoup\n",
    "\n",
    "driver = webdriver.Chrome('C://GoogleDriver//chromedriver')\n",
    "\n",
    "driver.get(\"https://www.ebay.com.my\")"
   ]
  },
  {
   "cell_type": "code",
   "execution_count": 5,
   "metadata": {},
   "outputs": [
    {
     "ename": "WebDriverException",
     "evalue": "Message: 'geckodriver' executable needs to be in PATH. \n",
     "output_type": "error",
     "traceback": [
      "\u001b[1;31m---------------------------------------------------------------------------\u001b[0m",
      "\u001b[1;31mFileNotFoundError\u001b[0m                         Traceback (most recent call last)",
      "File \u001b[1;32m~\\anaconda3\\envs\\python-dscourse\\Lib\\site-packages\\selenium\\webdriver\\common\\service.py:72\u001b[0m, in \u001b[0;36mService.start\u001b[1;34m(self)\u001b[0m\n\u001b[0;32m     71\u001b[0m     cmd\u001b[38;5;241m.\u001b[39mextend(\u001b[38;5;28mself\u001b[39m\u001b[38;5;241m.\u001b[39mcommand_line_args())\n\u001b[1;32m---> 72\u001b[0m     \u001b[38;5;28mself\u001b[39m\u001b[38;5;241m.\u001b[39mprocess \u001b[38;5;241m=\u001b[39m subprocess\u001b[38;5;241m.\u001b[39mPopen(cmd, env\u001b[38;5;241m=\u001b[39m\u001b[38;5;28mself\u001b[39m\u001b[38;5;241m.\u001b[39menv,\n\u001b[0;32m     73\u001b[0m                                     close_fds\u001b[38;5;241m=\u001b[39mplatform\u001b[38;5;241m.\u001b[39msystem() \u001b[38;5;241m!=\u001b[39m \u001b[38;5;124m'\u001b[39m\u001b[38;5;124mWindows\u001b[39m\u001b[38;5;124m'\u001b[39m,\n\u001b[0;32m     74\u001b[0m                                     stdout\u001b[38;5;241m=\u001b[39m\u001b[38;5;28mself\u001b[39m\u001b[38;5;241m.\u001b[39mlog_file,\n\u001b[0;32m     75\u001b[0m                                     stderr\u001b[38;5;241m=\u001b[39m\u001b[38;5;28mself\u001b[39m\u001b[38;5;241m.\u001b[39mlog_file,\n\u001b[0;32m     76\u001b[0m                                     stdin\u001b[38;5;241m=\u001b[39mPIPE)\n\u001b[0;32m     77\u001b[0m \u001b[38;5;28;01mexcept\u001b[39;00m \u001b[38;5;167;01mTypeError\u001b[39;00m:\n",
      "File \u001b[1;32m~\\anaconda3\\envs\\python-dscourse\\Lib\\subprocess.py:1024\u001b[0m, in \u001b[0;36mPopen.__init__\u001b[1;34m(self, args, bufsize, executable, stdin, stdout, stderr, preexec_fn, close_fds, shell, cwd, env, universal_newlines, startupinfo, creationflags, restore_signals, start_new_session, pass_fds, user, group, extra_groups, encoding, errors, text, umask, pipesize, process_group)\u001b[0m\n\u001b[0;32m   1021\u001b[0m             \u001b[38;5;28mself\u001b[39m\u001b[38;5;241m.\u001b[39mstderr \u001b[38;5;241m=\u001b[39m io\u001b[38;5;241m.\u001b[39mTextIOWrapper(\u001b[38;5;28mself\u001b[39m\u001b[38;5;241m.\u001b[39mstderr,\n\u001b[0;32m   1022\u001b[0m                     encoding\u001b[38;5;241m=\u001b[39mencoding, errors\u001b[38;5;241m=\u001b[39merrors)\n\u001b[1;32m-> 1024\u001b[0m     \u001b[38;5;28mself\u001b[39m\u001b[38;5;241m.\u001b[39m_execute_child(args, executable, preexec_fn, close_fds,\n\u001b[0;32m   1025\u001b[0m                         pass_fds, cwd, env,\n\u001b[0;32m   1026\u001b[0m                         startupinfo, creationflags, shell,\n\u001b[0;32m   1027\u001b[0m                         p2cread, p2cwrite,\n\u001b[0;32m   1028\u001b[0m                         c2pread, c2pwrite,\n\u001b[0;32m   1029\u001b[0m                         errread, errwrite,\n\u001b[0;32m   1030\u001b[0m                         restore_signals,\n\u001b[0;32m   1031\u001b[0m                         gid, gids, uid, umask,\n\u001b[0;32m   1032\u001b[0m                         start_new_session, process_group)\n\u001b[0;32m   1033\u001b[0m \u001b[38;5;28;01mexcept\u001b[39;00m:\n\u001b[0;32m   1034\u001b[0m     \u001b[38;5;66;03m# Cleanup if the child failed starting.\u001b[39;00m\n",
      "File \u001b[1;32m~\\anaconda3\\envs\\python-dscourse\\Lib\\subprocess.py:1509\u001b[0m, in \u001b[0;36mPopen._execute_child\u001b[1;34m(self, args, executable, preexec_fn, close_fds, pass_fds, cwd, env, startupinfo, creationflags, shell, p2cread, p2cwrite, c2pread, c2pwrite, errread, errwrite, unused_restore_signals, unused_gid, unused_gids, unused_uid, unused_umask, unused_start_new_session, unused_process_group)\u001b[0m\n\u001b[0;32m   1508\u001b[0m \u001b[38;5;28;01mtry\u001b[39;00m:\n\u001b[1;32m-> 1509\u001b[0m     hp, ht, pid, tid \u001b[38;5;241m=\u001b[39m _winapi\u001b[38;5;241m.\u001b[39mCreateProcess(executable, args,\n\u001b[0;32m   1510\u001b[0m                              \u001b[38;5;66;03m# no special security\u001b[39;00m\n\u001b[0;32m   1511\u001b[0m                              \u001b[38;5;28;01mNone\u001b[39;00m, \u001b[38;5;28;01mNone\u001b[39;00m,\n\u001b[0;32m   1512\u001b[0m                              \u001b[38;5;28mint\u001b[39m(\u001b[38;5;129;01mnot\u001b[39;00m close_fds),\n\u001b[0;32m   1513\u001b[0m                              creationflags,\n\u001b[0;32m   1514\u001b[0m                              env,\n\u001b[0;32m   1515\u001b[0m                              cwd,\n\u001b[0;32m   1516\u001b[0m                              startupinfo)\n\u001b[0;32m   1517\u001b[0m \u001b[38;5;28;01mfinally\u001b[39;00m:\n\u001b[0;32m   1518\u001b[0m     \u001b[38;5;66;03m# Child is launched. Close the parent's copy of those pipe\u001b[39;00m\n\u001b[0;32m   1519\u001b[0m     \u001b[38;5;66;03m# handles that only the child should have open.  You need\u001b[39;00m\n\u001b[1;32m   (...)\u001b[0m\n\u001b[0;32m   1522\u001b[0m     \u001b[38;5;66;03m# pipe will not close when the child process exits and the\u001b[39;00m\n\u001b[0;32m   1523\u001b[0m     \u001b[38;5;66;03m# ReadFile will hang.\u001b[39;00m\n",
      "\u001b[1;31mFileNotFoundError\u001b[0m: [WinError 2] The system cannot find the file specified",
      "\nDuring handling of the above exception, another exception occurred:\n",
      "\u001b[1;31mWebDriverException\u001b[0m                        Traceback (most recent call last)",
      "Cell \u001b[1;32mIn[5], line 6\u001b[0m\n\u001b[0;32m      3\u001b[0m \u001b[38;5;28;01mfrom\u001b[39;00m \u001b[38;5;21;01mselenium\u001b[39;00m \u001b[38;5;28;01mimport\u001b[39;00m webdriver\n\u001b[0;32m      4\u001b[0m \u001b[38;5;28;01mfrom\u001b[39;00m \u001b[38;5;21;01mselenium\u001b[39;00m\u001b[38;5;21;01m.\u001b[39;00m\u001b[38;5;21;01mwebdriver\u001b[39;00m\u001b[38;5;21;01m.\u001b[39;00m\u001b[38;5;21;01mcommon\u001b[39;00m\u001b[38;5;21;01m.\u001b[39;00m\u001b[38;5;21;01mkeys\u001b[39;00m \u001b[38;5;28;01mimport\u001b[39;00m Keys\n\u001b[1;32m----> 6\u001b[0m driver \u001b[38;5;241m=\u001b[39m webdriver\u001b[38;5;241m.\u001b[39mFirefox()\n\u001b[0;32m      7\u001b[0m driver\u001b[38;5;241m.\u001b[39mget(\u001b[38;5;124m\"\u001b[39m\u001b[38;5;124mhttps://www.ebay.com.my\u001b[39m\u001b[38;5;124m\"\u001b[39m)\n",
      "File \u001b[1;32m~\\anaconda3\\envs\\python-dscourse\\Lib\\site-packages\\selenium\\webdriver\\firefox\\webdriver.py:164\u001b[0m, in \u001b[0;36mWebDriver.__init__\u001b[1;34m(self, firefox_profile, firefox_binary, timeout, capabilities, proxy, executable_path, options, service_log_path, firefox_options, service_args, desired_capabilities, log_path, keep_alive)\u001b[0m\n\u001b[0;32m    159\u001b[0m capabilities\u001b[38;5;241m.\u001b[39mpop(\u001b[38;5;124m\"\u001b[39m\u001b[38;5;124mmarionette\u001b[39m\u001b[38;5;124m\"\u001b[39m)\n\u001b[0;32m    160\u001b[0m \u001b[38;5;28mself\u001b[39m\u001b[38;5;241m.\u001b[39mservice \u001b[38;5;241m=\u001b[39m Service(\n\u001b[0;32m    161\u001b[0m     executable_path,\n\u001b[0;32m    162\u001b[0m     service_args\u001b[38;5;241m=\u001b[39mservice_args,\n\u001b[0;32m    163\u001b[0m     log_path\u001b[38;5;241m=\u001b[39mservice_log_path)\n\u001b[1;32m--> 164\u001b[0m \u001b[38;5;28mself\u001b[39m\u001b[38;5;241m.\u001b[39mservice\u001b[38;5;241m.\u001b[39mstart()\n\u001b[0;32m    166\u001b[0m capabilities\u001b[38;5;241m.\u001b[39mupdate(options\u001b[38;5;241m.\u001b[39mto_capabilities())\n\u001b[0;32m    168\u001b[0m executor \u001b[38;5;241m=\u001b[39m FirefoxRemoteConnection(\n\u001b[0;32m    169\u001b[0m     remote_server_addr\u001b[38;5;241m=\u001b[39m\u001b[38;5;28mself\u001b[39m\u001b[38;5;241m.\u001b[39mservice\u001b[38;5;241m.\u001b[39mservice_url)\n",
      "File \u001b[1;32m~\\anaconda3\\envs\\python-dscourse\\Lib\\site-packages\\selenium\\webdriver\\common\\service.py:81\u001b[0m, in \u001b[0;36mService.start\u001b[1;34m(self)\u001b[0m\n\u001b[0;32m     79\u001b[0m \u001b[38;5;28;01mexcept\u001b[39;00m \u001b[38;5;167;01mOSError\u001b[39;00m \u001b[38;5;28;01mas\u001b[39;00m err:\n\u001b[0;32m     80\u001b[0m     \u001b[38;5;28;01mif\u001b[39;00m err\u001b[38;5;241m.\u001b[39merrno \u001b[38;5;241m==\u001b[39m errno\u001b[38;5;241m.\u001b[39mENOENT:\n\u001b[1;32m---> 81\u001b[0m         \u001b[38;5;28;01mraise\u001b[39;00m WebDriverException(\n\u001b[0;32m     82\u001b[0m             \u001b[38;5;124m\"\u001b[39m\u001b[38;5;124m'\u001b[39m\u001b[38;5;132;01m%s\u001b[39;00m\u001b[38;5;124m'\u001b[39m\u001b[38;5;124m executable needs to be in PATH. \u001b[39m\u001b[38;5;132;01m%s\u001b[39;00m\u001b[38;5;124m\"\u001b[39m \u001b[38;5;241m%\u001b[39m (\n\u001b[0;32m     83\u001b[0m                 os\u001b[38;5;241m.\u001b[39mpath\u001b[38;5;241m.\u001b[39mbasename(\u001b[38;5;28mself\u001b[39m\u001b[38;5;241m.\u001b[39mpath), \u001b[38;5;28mself\u001b[39m\u001b[38;5;241m.\u001b[39mstart_error_message)\n\u001b[0;32m     84\u001b[0m         )\n\u001b[0;32m     85\u001b[0m     \u001b[38;5;28;01melif\u001b[39;00m err\u001b[38;5;241m.\u001b[39merrno \u001b[38;5;241m==\u001b[39m errno\u001b[38;5;241m.\u001b[39mEACCES:\n\u001b[0;32m     86\u001b[0m         \u001b[38;5;28;01mraise\u001b[39;00m WebDriverException(\n\u001b[0;32m     87\u001b[0m             \u001b[38;5;124m\"\u001b[39m\u001b[38;5;124m'\u001b[39m\u001b[38;5;132;01m%s\u001b[39;00m\u001b[38;5;124m'\u001b[39m\u001b[38;5;124m executable may have wrong permissions. \u001b[39m\u001b[38;5;132;01m%s\u001b[39;00m\u001b[38;5;124m\"\u001b[39m \u001b[38;5;241m%\u001b[39m (\n\u001b[0;32m     88\u001b[0m                 os\u001b[38;5;241m.\u001b[39mpath\u001b[38;5;241m.\u001b[39mbasename(\u001b[38;5;28mself\u001b[39m\u001b[38;5;241m.\u001b[39mpath), \u001b[38;5;28mself\u001b[39m\u001b[38;5;241m.\u001b[39mstart_error_message)\n\u001b[0;32m     89\u001b[0m         )\n",
      "\u001b[1;31mWebDriverException\u001b[0m: Message: 'geckodriver' executable needs to be in PATH. \n"
     ]
    }
   ],
   "source": [
    "#webdriver: https://github.com/mozilla/geckodriver/releases\n",
    "\n",
    "from selenium import webdriver\n",
    "from selenium.webdriver.common.keys import Keys\n",
    "\n",
    "driver = webdriver.Firefox()\n",
    "driver.get(\"https://www.ebay.com.my\")\n"
   ]
  },
  {
   "cell_type": "code",
   "execution_count": 16,
   "metadata": {},
   "outputs": [],
   "source": [
    "# Page 1\n",
    "driver.find_element_by_id(\"gh-ac\").send_keys(\"Proton\")\n",
    "\n",
    "time.sleep(1)\n",
    "\n",
    "driver.find_element_by_id(\"gh-btn\").click()\n"
   ]
  },
  {
   "cell_type": "code",
   "execution_count": 17,
   "metadata": {},
   "outputs": [
    {
     "name": "stdout",
     "output_type": "stream",
     "text": [
      "[<h3 class=\"gh-sbc-parent\"><a href=\"https://www.ebay.com.my/b/Collectibles/1/bn_1858810\" title=\"\">Collectibles<i class=\"chevron-right\"></i></a></h3>, <h3 class=\"gh-sbc-parent\"><a href=\"https://www.ebay.com.my/b/Computers-Tablets-Network-Hardware/58058/bn_1865247\" title=\"\">Computers &amp; Tablets<i class=\"chevron-right\"></i></a></h3>, <h3 class=\"gh-sbc-parent\"><a href=\"https://www.ebay.com.my/b/Consumer-Electronics/293/bn_1865552\" title=\"\">Electronics<i class=\"chevron-right\"></i></a></h3>, <h3 class=\"gh-sbc-parent\"><a href=\"https://www.ebay.com.my/b/Clothing-Shoes-Accessories/11450/bn_1852545\" title=\"\">Fashion<i class=\"chevron-right\"></i></a></h3>, <h3 class=\"gh-sbc-parent\"><a href=\"https://www.ebay.com.my/b/Health-Beauty/26395/bn_1865479\" title=\"\">Health &amp; Beauty<i class=\"chevron-right\"></i></a></h3>, <h3 class=\"gh-sbc-parent\"><a href=\"https://www.ebay.com.my/b/Home-Garden/11700/bn_1853126\" title=\"\">Home &amp; Garden<i class=\"chevron-right\"></i></a></h3>, <h3 class=\"gh-sbc-parent\"><a href=\"https://www.ebay.com.my/b/Jewelry-Watches/281/bn_1865273\" title=\"\">Jewelry &amp; Watches<i class=\"chevron-right\"></i></a></h3>, <h3 class=\"gh-sbc-parent\"><a href=\"https://www.ebay.com.my/b/Toys-Hobbies/220/bn_1865497\" title=\"\">Toys &amp; Hobbies<i class=\"chevron-right\"></i></a></h3>, <h3 class=\"gh-sbc-parent\"><a _sp=\"m570.l3416\" href=\"https://www.ebay.com.my/sch/allcategories/all-categories\" title=\"\">Other<i class=\"chevron-right\"></i></a></h3>, <h3 class=\"gh-sbc-parent\"><a _sp=\"m570.l3601\" href=\"https://www.ebay.com.my/n/all-categories\" id=\"gh-shop-see-all\" title=\"\">See all categories<i class=\"gh-sbc-h3i gh-sprRetina\"></i></a></h3>]\n",
      "<a class=\"scnd\" href=\"https://www.ebay.com.my/b/Collectible-Animation-Art-Characters/13658/bn_1849452\">Animation Art &amp; Characters</a>\n"
     ]
    }
   ],
   "source": [
    "# Page 2\n",
    "soup = BeautifulSoup(driver.page_source,'html.parser')\n",
    "\n",
    "time.sleep(1)\n",
    "\n",
    "soup_list = soup.findAll(\"h3\", attrs={\"class\":\"gh-sbc-parent\"})\n",
    "\n",
    "# soup_list = soup.findAll(\"h3\", attrs={\"class\":\"gh-sbc-parent\"})[0]\n",
    "\n",
    "print(soup_list)\n",
    "\n",
    "soup_list = soup.findAll(\"a\", attrs={\"class\":\"scnd\"})[0]\n",
    "print(soup_list)"
   ]
  },
  {
   "cell_type": "code",
   "execution_count": 7,
   "metadata": {},
   "outputs": [
    {
     "name": "stdout",
     "output_type": "stream",
     "text": [
      "https://www.ebay.com.my/b/Collectible-Animation-Art-Characters/13658/bn_1849452\n"
     ]
    }
   ],
   "source": [
    "# Page 2\n",
    "soup = BeautifulSoup(driver.page_source,'html.parser')\n",
    "\n",
    "soup_list = soup.findAll(\"a\", attrs={\"class\":\"scnd\"})[0]['href']\n",
    "\n",
    "print(soup_list)\n"
   ]
  },
  {
   "cell_type": "code",
   "execution_count": 8,
   "metadata": {},
   "outputs": [
    {
     "name": "stdout",
     "output_type": "stream",
     "text": [
      "https://www.ebay.com.my/b/Collectible-Animation-Art-Characters/13658/bn_1849452\n"
     ]
    }
   ],
   "source": [
    "# Page 2\n",
    "soup = BeautifulSoup(driver.page_source,'html.parser')\n",
    "\n",
    "soup_list = soup.findAll(\"a\", attrs={\"class\":\"scnd\"})[0]['href']\n",
    "\n",
    "driver.get(soup_list)\n",
    "\n",
    "time.sleep(1)\n",
    "\n",
    "print(soup_list)"
   ]
  },
  {
   "cell_type": "code",
   "execution_count": 9,
   "metadata": {},
   "outputs": [
    {
     "name": "stdout",
     "output_type": "stream",
     "text": [
      "https://www.ebay.com.my/n/all-categories\n"
     ]
    }
   ],
   "source": [
    "# Page 3\n",
    "soup = BeautifulSoup(driver.page_source,'html.parser')\n",
    "\n",
    "soup_button = soup.find(\"a\",attrs={\"id\":\"gh-shop-see-all\"})['href']\n",
    "\n",
    "driver.get(soup_button)\n",
    "\n",
    "time.sleep(1)\n",
    "\n",
    "print(soup_button)\n",
    "\n",
    "#driver.close()\n"
   ]
  },
  {
   "cell_type": "markdown",
   "metadata": {},
   "source": [
    "### find_element_by_xpath"
   ]
  },
  {
   "cell_type": "code",
   "execution_count": 11,
   "metadata": {},
   "outputs": [
    {
     "name": "stdout",
     "output_type": "stream",
     "text": [
      "<table class=\"infobox\"><caption class=\"infobox-title\">International Space Station</caption><tbody><tr><td colspan=\"2\" class=\"infobox-image\"><a href=\"/wiki/File:The_station_pictured_from_the_SpaceX_Crew_Dragon_5_(cropped).jpg\" class=\"image\"><img alt=\"A forward view of the International Space Station with limb of the Earth in the background. In view are the station's sixteen paired maroon-coloured main solar array wings, eight on either side of the station, mounted to a central integrated truss structure. Spaced along the truss are ten white radiators. Mounted to the base of the two rightmost main solar arrays pairs, there are two smaller paired light brown- coloured ISS Roll-out Solar Arrays. Attached to the centre of the truss is a cluster of pressurised modules arranged in an elongated T shape. A set of solar arrays are mounted to the module at the aft end of the cluster.\" src=\"//upload.wikimedia.org/wikipedia/commons/thumb/e/e1/The_station_pictured_from_the_SpaceX_Crew_Dragon_5_%28cropped%29.jpg/240px-The_station_pictured_from_the_SpaceX_Crew_Dragon_5_%28cropped%29.jpg\" decoding=\"async\" width=\"240\" height=\"138\" srcset=\"//upload.wikimedia.org/wikipedia/commons/thumb/e/e1/The_station_pictured_from_the_SpaceX_Crew_Dragon_5_%28cropped%29.jpg/360px-The_station_pictured_from_the_SpaceX_Crew_Dragon_5_%28cropped%29.jpg 1.5x, //upload.wikimedia.org/wikipedia/commons/thumb/e/e1/The_station_pictured_from_the_SpaceX_Crew_Dragon_5_%28cropped%29.jpg/480px-The_station_pictured_from_the_SpaceX_Crew_Dragon_5_%28cropped%29.jpg 2x\" data-file-width=\"6633\" data-file-height=\"3820\"></a><div class=\"infobox-caption\" style=\"line-height:15px;\">Oblique forward view in November 2021</div></td></tr><tr><td colspan=\"2\" class=\"infobox-image\"><a href=\"/wiki/File:ISS_insignia.svg\" class=\"image\"><img alt=\"ISS insignia.svg\" src=\"//upload.wikimedia.org/wikipedia/commons/thumb/b/bb/ISS_insignia.svg/110px-ISS_insignia.svg.png\" decoding=\"async\" width=\"110\" height=\"136\" srcset=\"//upload.wikimedia.org/wikipedia/commons/thumb/b/bb/ISS_insignia.svg/165px-ISS_insignia.svg.png 1.5x, //upload.wikimedia.org/wikipedia/commons/thumb/b/bb/ISS_insignia.svg/220px-ISS_insignia.svg.png 2x\" data-file-width=\"800\" data-file-height=\"990\"></a> <a href=\"/wiki/File:ISS_emblem.png\" class=\"image\"><img alt=\"ISS emblem.png\" src=\"//upload.wikimedia.org/wikipedia/commons/thumb/1/15/ISS_emblem.png/130px-ISS_emblem.png\" decoding=\"async\" width=\"130\" height=\"130\" srcset=\"//upload.wikimedia.org/wikipedia/commons/thumb/1/15/ISS_emblem.png/195px-ISS_emblem.png 1.5x, //upload.wikimedia.org/wikipedia/commons/thumb/1/15/ISS_emblem.png/260px-ISS_emblem.png 2x\" data-file-width=\"1891\" data-file-height=\"1891\"></a><div class=\"infobox-caption\" style=\"line-height:15px;\"><a href=\"/wiki/International_Space_Station_programme\" title=\"International Space Station programme\">International Space Station program</a> insignia</div></td></tr><tr><th colspan=\"2\" class=\"infobox-header\">Station statistics</th></tr><tr><th scope=\"row\" class=\"infobox-label\"><a href=\"/wiki/International_Designator\" title=\"International Designator\">COSPAR ID</a></th><td class=\"infobox-data\">1998-067A</td></tr><tr><th scope=\"row\" class=\"infobox-label\"><a href=\"/wiki/Satellite_Catalog_Number\" title=\"Satellite Catalog Number\">SATCAT <abbr title=\"number\">no.</abbr></a></th><td class=\"infobox-data\">25544</td></tr><tr><th scope=\"row\" class=\"infobox-label\"><a href=\"/wiki/Call_sign\" title=\"Call sign\">Call sign</a></th><td class=\"infobox-data\"><i>Alpha</i>, <i>Station</i></td></tr><tr><th scope=\"row\" class=\"infobox-label\">Crew</th><td class=\"infobox-data\"><style data-mw-deduplicate=\"TemplateStyles:r1126788409\">.mw-parser-output .plainlist ol,.mw-parser-output .plainlist ul{line-height:inherit;list-style:none;margin:0;padding:0}.mw-parser-output .plainlist ol li,.mw-parser-output .plainlist ul li{margin-bottom:0}</style><div class=\"plainlist\"><ul><li>Fully crewed: 7</li><li>Currently aboard: 7<br>(<a href=\"/wiki/Soyuz_MS-23\" title=\"Soyuz MS-23\">Soyuz MS-23</a> <a href=\"/wiki/SpaceX_Crew-6\" title=\"SpaceX Crew-6\">Crew-6</a>)</li><li><a href=\"/wiki/List_of_International_Space_Station_expeditions\" title=\"List of International Space Station expeditions\">Expedition</a>: <a href=\"/wiki/Expedition_69\" title=\"Expedition 69\">69</a></li><li><a href=\"/wiki/List_of_commanders_of_the_International_Space_Station\" title=\"List of commanders of the International Space Station\">Commander</a>: <a href=\"/wiki/Sergey_Prokopyev_(cosmonaut)\" title=\"Sergey Prokopyev (cosmonaut)\">Sergey Prokopyev</a> (<a href=\"/wiki/Roscosmos\" title=\"Roscosmos\">Roscosmos</a>)</li></ul></div></td></tr><tr><th scope=\"row\" class=\"infobox-label\"><a href=\"/wiki/Rocket_launch\" class=\"mw-redirect\" title=\"Rocket launch\">Launch</a></th><td class=\"infobox-data\">20&nbsp;November 1998<span class=\"noprint\"> (24 years ago)</span><span style=\"display:none\">&nbsp;(<span class=\"bday dtstart published updated\">1998-11-20</span>)</span></td></tr><tr><th scope=\"row\" class=\"infobox-label\"><a href=\"/wiki/Launch_pad\" title=\"Launch pad\">Launch pad</a></th><td class=\"infobox-data\"><link rel=\"mw-deduplicated-inline-style\" href=\"mw-data:TemplateStyles:r1126788409\"><div class=\"plainlist\">\n",
      "<ul><li><span class=\"nowrap\"><a href=\"/wiki/Baikonur_Cosmodrome\" title=\"Baikonur Cosmodrome\">Baikonur</a>, <a href=\"/wiki/Gagarin%27s_Start\" title=\"Gagarin's Start\">Site 1/5</a>, <a href=\"/wiki/Baikonur_Cosmodrome_Site_200\" title=\"Baikonur Cosmodrome Site 200\">Site 200/39</a>, <br> <a href=\"/wiki/Baikonur_Cosmodrome_Site_31\" title=\"Baikonur Cosmodrome Site 31\">Site 31/6</a> and <a href=\"/wiki/Baikonur_Cosmodrome_Site_81\" title=\"Baikonur Cosmodrome Site 81\">Site 81/23</a></span></li>\n",
      "<li><span class=\"nowrap\"><a href=\"/wiki/Kennedy_Space_Center\" title=\"Kennedy Space Center\">Kennedy</a>, <a href=\"/wiki/Kennedy_Space_Center_Launch_Complex_39\" title=\"Kennedy Space Center Launch Complex 39\">LC-39</a> and <a href=\"/wiki/Cape_Canaveral_Space_Force_Station\" title=\"Cape Canaveral Space Force Station\">CCSFS</a>, <a href=\"/wiki/Cape_Canaveral_Space_Launch_Complex_40\" title=\"Cape Canaveral Space Launch Complex 40\">SLC-40</a></span></li></ul>\n",
      "</div></td></tr><tr><th scope=\"row\" class=\"infobox-label\"><a href=\"/wiki/Mass\" title=\"Mass\">Mass</a></th><td class=\"infobox-data\">450,000&nbsp;kg (990,000&nbsp;lb)<sup id=\"cite_ref-1\" class=\"reference\"><a href=\"#cite_note-1\">[1]</a></sup></td></tr><tr><th scope=\"row\" class=\"infobox-label\">Length</th><td class=\"infobox-data\">109&nbsp;m (358&nbsp;ft) (Overall length), 94&nbsp;m (310&nbsp;ft) (truss length)<sup id=\"cite_ref-ISS_stats_2-0\" class=\"reference\"><a href=\"#cite_note-ISS_stats-2\">[2]</a></sup></td></tr><tr><th scope=\"row\" class=\"infobox-label\">Width</th><td class=\"infobox-data\">73&nbsp;m (239&nbsp;ft) (solar array length)<sup id=\"cite_ref-ISS_stats_2-1\" class=\"reference\"><a href=\"#cite_note-ISS_stats-2\">[2]</a></sup></td></tr><tr><th scope=\"row\" class=\"infobox-label\">Pressurised <a href=\"/wiki/Volume\" title=\"Volume\">volume</a></th><td class=\"infobox-data\">1,005.0&nbsp;m<sup>3</sup> (35,491&nbsp;cu&nbsp;ft)<sup id=\"cite_ref-ISS_stats_2-2\" class=\"reference\"><a href=\"#cite_note-ISS_stats-2\">[2]</a></sup></td></tr><tr><th scope=\"row\" class=\"infobox-label\"><a href=\"/wiki/Atmospheric_pressure\" title=\"Atmospheric pressure\">Atmospheric pressure</a></th><td class=\"infobox-data\">101.3&nbsp;<a href=\"/wiki/Pascal_(unit)\" title=\"Pascal (unit)\">kPa</a> (14.7&nbsp;<a href=\"/wiki/Pound_per_square_inch\" title=\"Pound per square inch\">psi</a>; 1.0&nbsp;<a href=\"/wiki/Atmosphere_(unit)\" class=\"mw-redirect\" title=\"Atmosphere (unit)\">atm</a>)<br>79% nitrogen, 21% oxygen</td></tr><tr><th scope=\"row\" class=\"infobox-label\"><a href=\"/wiki/Apsis\" title=\"Apsis\">Perigee altitude</a></th><td class=\"infobox-data\">413&nbsp;km (256.6&nbsp;mi) <a href=\"/wiki/Above_mean_sea_level\" class=\"mw-redirect\" title=\"Above mean sea level\">AMSL</a><sup id=\"cite_ref-heavens-above_3-0\" class=\"reference\"><a href=\"#cite_note-heavens-above-3\">[3]</a></sup></td></tr><tr><th scope=\"row\" class=\"infobox-label\"><a href=\"/wiki/Apsis\" title=\"Apsis\">Apogee altitude</a></th><td class=\"infobox-data\">422&nbsp;km (262.2&nbsp;mi) AMSL<sup id=\"cite_ref-heavens-above_3-1\" class=\"reference\"><a href=\"#cite_note-heavens-above-3\">[3]</a></sup></td></tr><tr><th scope=\"row\" class=\"infobox-label\"><a href=\"/wiki/Orbital_inclination\" title=\"Orbital inclination\">Orbital inclination</a></th><td class=\"infobox-data\">51.64°<sup id=\"cite_ref-heavens-above_3-2\" class=\"reference\"><a href=\"#cite_note-heavens-above-3\">[3]</a></sup></td></tr><tr><th scope=\"row\" class=\"infobox-label\">Orbital speed</th><td class=\"infobox-data\">7.66&nbsp;km/s<sup id=\"cite_ref-heavens-above_3-3\" class=\"reference\"><a href=\"#cite_note-heavens-above-3\">[3]</a></sup><sup class=\"noprint Inline-Template\" style=\"white-space:nowrap;\">[<i><a href=\"/wiki/Wikipedia:Verifiability\" title=\"Wikipedia:Verifiability\"><span title=\"Page does not mention orbital speed, just some of the other orbital parameters. This reference should be removed for this value? (May 2021)\">failed verification</span></a></i>]</sup>27,600&nbsp;km/h; 17,100&nbsp;mph</td></tr><tr><th scope=\"row\" class=\"infobox-label\"><a href=\"/wiki/Orbital_period\" title=\"Orbital period\">Orbital period</a></th><td class=\"infobox-data\">92.9 minutes<sup id=\"cite_ref-satellite-tracking_4-0\" class=\"reference\"><a href=\"#cite_note-satellite-tracking-4\">[4]</a></sup></td></tr><tr><th scope=\"row\" class=\"infobox-label\">Orbits per day</th><td class=\"infobox-data\">15.49<sup id=\"cite_ref-heavens-above_3-4\" class=\"reference\"><a href=\"#cite_note-heavens-above-3\">[3]</a></sup></td></tr><tr><th scope=\"row\" class=\"infobox-label\">Orbit <a href=\"/wiki/Epoch_(astronomy)\" title=\"Epoch (astronomy)\">epoch</a></th><td class=\"infobox-data\">12 October 2022 14:25:10\n",
      "<sup id=\"cite_ref-satellite-tracking_4-1\" class=\"reference\"><a href=\"#cite_note-satellite-tracking-4\">[4]</a></sup></td></tr><tr><th scope=\"row\" class=\"infobox-label\">Days in orbit</th><td class=\"infobox-data\">24&nbsp;years, 7&nbsp;months, 13&nbsp;days<br>(3 July 2023)</td></tr><tr><th scope=\"row\" class=\"infobox-label\">Days occupied</th><td class=\"infobox-data\">22&nbsp;years, 8&nbsp;months, 1&nbsp;day<br>(3 July 2023)</td></tr><tr><th scope=\"row\" class=\"infobox-label\"><abbr title=\"Number\">No.</abbr> of orbits</th><td class=\"infobox-data\">133,312\n",
      " as of June&nbsp;2022<sup class=\"plainlinks noexcerpt noprint asof-tag update\" style=\"display:none;\"><a class=\"external text\" href=\"https://en.wikipedia.org/w/index.php?title=International_Space_Station&amp;action=edit\">[update]</a></sup><sup id=\"cite_ref-5\" class=\"reference\"><a href=\"#cite_note-5\">[5]</a></sup></td></tr><tr><th scope=\"row\" class=\"infobox-label\"><a href=\"/wiki/Orbital_decay\" title=\"Orbital decay\">Orbital decay</a></th><td class=\"infobox-data\">2 km/month</td></tr><tr><td colspan=\"2\" class=\"infobox-below\" style=\"font-size:90%; line-height:15px; text-align:center;\">Statistics as of 22 December 2022<br>(unless noted otherwise)<br>References: <sup id=\"cite_ref-ISS_stats_2-3\" class=\"reference\"><a href=\"#cite_note-ISS_stats-2\">[2]</a></sup><sup id=\"cite_ref-heavens-above_3-5\" class=\"reference\"><a href=\"#cite_note-heavens-above-3\">[3]</a></sup><sup id=\"cite_ref-OnOrbit_6-0\" class=\"reference\"><a href=\"#cite_note-OnOrbit-6\">[6]</a></sup><sup id=\"cite_ref-7\" class=\"reference\"><a href=\"#cite_note-7\">[7]</a></sup><sup id=\"cite_ref-8\" class=\"reference\"><a href=\"#cite_note-8\">[8]</a></sup><link rel=\"mw-deduplicated-inline-style\" href=\"mw-data:TemplateStyles:r1066479718\"></td></tr><tr><td colspan=\"2\" class=\"infobox-subheader\" style=\"font-weight:bold;\">Configuration</td></tr><tr><td colspan=\"2\" class=\"infobox-image\"><a href=\"/wiki/File:ISS_configuration_2022-12_en.svg\" class=\"image\"><img alt=\"The components of the ISS in an exploded diagram, with modules on-orbit highlighted in orange.\" src=\"//upload.wikimedia.org/wikipedia/commons/thumb/8/80/ISS_configuration_2022-12_en.svg/240px-ISS_configuration_2022-12_en.svg.png\" decoding=\"async\" width=\"240\" height=\"157\" srcset=\"//upload.wikimedia.org/wikipedia/commons/thumb/8/80/ISS_configuration_2022-12_en.svg/360px-ISS_configuration_2022-12_en.svg.png 1.5x, //upload.wikimedia.org/wikipedia/commons/thumb/8/80/ISS_configuration_2022-12_en.svg/480px-ISS_configuration_2022-12_en.svg.png 2x\" data-file-width=\"1257\" data-file-height=\"820\"></a><div class=\"infobox-caption\" style=\"line-height:15px;\">Station elements as of December&nbsp;2022<sup class=\"plainlinks noexcerpt noprint asof-tag update\" style=\"display:none;\"><a class=\"external text\" href=\"https://en.wikipedia.org/w/index.php?title=International_Space_Station&amp;action=edit\">[update]</a></sup><br>(<a href=\"/wiki/Exploded-view_drawing\" title=\"Exploded-view drawing\">exploded view</a>)</div></td></tr><tr style=\"display:none\"><td colspan=\"2\">\n",
      "</td></tr></tbody></table>\n"
     ]
    }
   ],
   "source": [
    "from selenium import webdriver\n",
    "\n",
    "# driver = webdriver.Firefox() # to try with firefox webdriver\n",
    "\n",
    "driver = webdriver.Chrome('chromedriver')\n",
    "\n",
    "driver.get('https://en.wikipedia.org/wiki/International_Space_Station')\n",
    "\n",
    "time.sleep(1)\n",
    "\n",
    "# xPath option 1\n",
    "#iss_table = driver.find_element_by_xpath(r'/html/body/div[3]/div[3]/div[4]/div/table[1]')\n",
    "\n",
    "# xPath option 2\n",
    "iss_table = driver.find_element_by_xpath(r'//*[@id=\"mw-content-text\"]/div/table[1]')\n",
    "\n",
    "# xPath option 3\n",
    "# iss_table = driver.find_element_by_xpath('//table')\n",
    "\n",
    "iss_table_html = iss_table.get_attribute('outerHTML')\n",
    "\n",
    "# Print partially\n",
    "# print(iss_table_html[:200])\n",
    "# print('\\n. . .\\n')\n",
    "# print(iss_table_html[-200:])\n",
    "\n",
    "print(iss_table_html)\n",
    "\n",
    "driver.close()\n"
   ]
  },
  {
   "cell_type": "code",
   "execution_count": 12,
   "metadata": {},
   "outputs": [
    {
     "name": "stderr",
     "output_type": "stream",
     "text": [
      "C:\\Users\\User\\AppData\\Local\\Temp\\ipykernel_3712\\1664005910.py:4: DeprecationWarning: Importing display from IPython.core.display is deprecated since IPython 7.14, please import from IPython display\n",
      "  from IPython.core.display import display, HTML\n"
     ]
    },
    {
     "data": {
      "text/html": [
       "<table class=\"infobox\"><caption class=\"infobox-title\">International Space Station</caption><tbody><tr><td colspan=\"2\" class=\"infobox-image\"><a href=\"/wiki/File:The_station_pictured_from_the_SpaceX_Crew_Dragon_5_(cropped).jpg\" class=\"image\"><img alt=\"A forward view of the International Space Station with limb of the Earth in the background. In view are the station's sixteen paired maroon-coloured main solar array wings, eight on either side of the station, mounted to a central integrated truss structure. Spaced along the truss are ten white radiators. Mounted to the base of the two rightmost main solar arrays pairs, there are two smaller paired light brown- coloured ISS Roll-out Solar Arrays. Attached to the centre of the truss is a cluster of pressurised modules arranged in an elongated T shape. A set of solar arrays are mounted to the module at the aft end of the cluster.\" src=\"//upload.wikimedia.org/wikipedia/commons/thumb/e/e1/The_station_pictured_from_the_SpaceX_Crew_Dragon_5_%28cropped%29.jpg/240px-The_station_pictured_from_the_SpaceX_Crew_Dragon_5_%28cropped%29.jpg\" decoding=\"async\" width=\"240\" height=\"138\" srcset=\"//upload.wikimedia.org/wikipedia/commons/thumb/e/e1/The_station_pictured_from_the_SpaceX_Crew_Dragon_5_%28cropped%29.jpg/360px-The_station_pictured_from_the_SpaceX_Crew_Dragon_5_%28cropped%29.jpg 1.5x, //upload.wikimedia.org/wikipedia/commons/thumb/e/e1/The_station_pictured_from_the_SpaceX_Crew_Dragon_5_%28cropped%29.jpg/480px-The_station_pictured_from_the_SpaceX_Crew_Dragon_5_%28cropped%29.jpg 2x\" data-file-width=\"6633\" data-file-height=\"3820\"></a><div class=\"infobox-caption\" style=\"line-height:15px;\">Oblique forward view in November 2021</div></td></tr><tr><td colspan=\"2\" class=\"infobox-image\"><a href=\"/wiki/File:ISS_insignia.svg\" class=\"image\"><img alt=\"ISS insignia.svg\" src=\"//upload.wikimedia.org/wikipedia/commons/thumb/b/bb/ISS_insignia.svg/110px-ISS_insignia.svg.png\" decoding=\"async\" width=\"110\" height=\"136\" srcset=\"//upload.wikimedia.org/wikipedia/commons/thumb/b/bb/ISS_insignia.svg/165px-ISS_insignia.svg.png 1.5x, //upload.wikimedia.org/wikipedia/commons/thumb/b/bb/ISS_insignia.svg/220px-ISS_insignia.svg.png 2x\" data-file-width=\"800\" data-file-height=\"990\"></a> <a href=\"/wiki/File:ISS_emblem.png\" class=\"image\"><img alt=\"ISS emblem.png\" src=\"//upload.wikimedia.org/wikipedia/commons/thumb/1/15/ISS_emblem.png/130px-ISS_emblem.png\" decoding=\"async\" width=\"130\" height=\"130\" srcset=\"//upload.wikimedia.org/wikipedia/commons/thumb/1/15/ISS_emblem.png/195px-ISS_emblem.png 1.5x, //upload.wikimedia.org/wikipedia/commons/thumb/1/15/ISS_emblem.png/260px-ISS_emblem.png 2x\" data-file-width=\"1891\" data-file-height=\"1891\"></a><div class=\"infobox-caption\" style=\"line-height:15px;\"><a href=\"/wiki/International_Space_Station_programme\" title=\"International Space Station programme\">International Space Station program</a> insignia</div></td></tr><tr><th colspan=\"2\" class=\"infobox-header\">Station statistics</th></tr><tr><th scope=\"row\" class=\"infobox-label\"><a href=\"/wiki/International_Designator\" title=\"International Designator\">COSPAR ID</a></th><td class=\"infobox-data\">1998-067A</td></tr><tr><th scope=\"row\" class=\"infobox-label\"><a href=\"/wiki/Satellite_Catalog_Number\" title=\"Satellite Catalog Number\">SATCAT <abbr title=\"number\">no.</abbr></a></th><td class=\"infobox-data\">25544</td></tr><tr><th scope=\"row\" class=\"infobox-label\"><a href=\"/wiki/Call_sign\" title=\"Call sign\">Call sign</a></th><td class=\"infobox-data\"><i>Alpha</i>, <i>Station</i></td></tr><tr><th scope=\"row\" class=\"infobox-label\">Crew</th><td class=\"infobox-data\"><style data-mw-deduplicate=\"TemplateStyles:r1126788409\">.mw-parser-output .plainlist ol,.mw-parser-output .plainlist ul{line-height:inherit;list-style:none;margin:0;padding:0}.mw-parser-output .plainlist ol li,.mw-parser-output .plainlist ul li{margin-bottom:0}</style><div class=\"plainlist\"><ul><li>Fully crewed: 7</li><li>Currently aboard: 7<br>(<a href=\"/wiki/Soyuz_MS-23\" title=\"Soyuz MS-23\">Soyuz MS-23</a> <a href=\"/wiki/SpaceX_Crew-6\" title=\"SpaceX Crew-6\">Crew-6</a>)</li><li><a href=\"/wiki/List_of_International_Space_Station_expeditions\" title=\"List of International Space Station expeditions\">Expedition</a>: <a href=\"/wiki/Expedition_69\" title=\"Expedition 69\">69</a></li><li><a href=\"/wiki/List_of_commanders_of_the_International_Space_Station\" title=\"List of commanders of the International Space Station\">Commander</a>: <a href=\"/wiki/Sergey_Prokopyev_(cosmonaut)\" title=\"Sergey Prokopyev (cosmonaut)\">Sergey Prokopyev</a> (<a href=\"/wiki/Roscosmos\" title=\"Roscosmos\">Roscosmos</a>)</li></ul></div></td></tr><tr><th scope=\"row\" class=\"infobox-label\"><a href=\"/wiki/Rocket_launch\" class=\"mw-redirect\" title=\"Rocket launch\">Launch</a></th><td class=\"infobox-data\">20&nbsp;November 1998<span class=\"noprint\"> (24 years ago)</span><span style=\"display:none\">&nbsp;(<span class=\"bday dtstart published updated\">1998-11-20</span>)</span></td></tr><tr><th scope=\"row\" class=\"infobox-label\"><a href=\"/wiki/Launch_pad\" title=\"Launch pad\">Launch pad</a></th><td class=\"infobox-data\"><link rel=\"mw-deduplicated-inline-style\" href=\"mw-data:TemplateStyles:r1126788409\"><div class=\"plainlist\">\n",
       "<ul><li><span class=\"nowrap\"><a href=\"/wiki/Baikonur_Cosmodrome\" title=\"Baikonur Cosmodrome\">Baikonur</a>, <a href=\"/wiki/Gagarin%27s_Start\" title=\"Gagarin's Start\">Site 1/5</a>, <a href=\"/wiki/Baikonur_Cosmodrome_Site_200\" title=\"Baikonur Cosmodrome Site 200\">Site 200/39</a>, <br> <a href=\"/wiki/Baikonur_Cosmodrome_Site_31\" title=\"Baikonur Cosmodrome Site 31\">Site 31/6</a> and <a href=\"/wiki/Baikonur_Cosmodrome_Site_81\" title=\"Baikonur Cosmodrome Site 81\">Site 81/23</a></span></li>\n",
       "<li><span class=\"nowrap\"><a href=\"/wiki/Kennedy_Space_Center\" title=\"Kennedy Space Center\">Kennedy</a>, <a href=\"/wiki/Kennedy_Space_Center_Launch_Complex_39\" title=\"Kennedy Space Center Launch Complex 39\">LC-39</a> and <a href=\"/wiki/Cape_Canaveral_Space_Force_Station\" title=\"Cape Canaveral Space Force Station\">CCSFS</a>, <a href=\"/wiki/Cape_Canaveral_Space_Launch_Complex_40\" title=\"Cape Canaveral Space Launch Complex 40\">SLC-40</a></span></li></ul>\n",
       "</div></td></tr><tr><th scope=\"row\" class=\"infobox-label\"><a href=\"/wiki/Mass\" title=\"Mass\">Mass</a></th><td class=\"infobox-data\">450,000&nbsp;kg (990,000&nbsp;lb)<sup id=\"cite_ref-1\" class=\"reference\"><a href=\"#cite_note-1\">[1]</a></sup></td></tr><tr><th scope=\"row\" class=\"infobox-label\">Length</th><td class=\"infobox-data\">109&nbsp;m (358&nbsp;ft) (Overall length), 94&nbsp;m (310&nbsp;ft) (truss length)<sup id=\"cite_ref-ISS_stats_2-0\" class=\"reference\"><a href=\"#cite_note-ISS_stats-2\">[2]</a></sup></td></tr><tr><th scope=\"row\" class=\"infobox-label\">Width</th><td class=\"infobox-data\">73&nbsp;m (239&nbsp;ft) (solar array length)<sup id=\"cite_ref-ISS_stats_2-1\" class=\"reference\"><a href=\"#cite_note-ISS_stats-2\">[2]</a></sup></td></tr><tr><th scope=\"row\" class=\"infobox-label\">Pressurised <a href=\"/wiki/Volume\" title=\"Volume\">volume</a></th><td class=\"infobox-data\">1,005.0&nbsp;m<sup>3</sup> (35,491&nbsp;cu&nbsp;ft)<sup id=\"cite_ref-ISS_stats_2-2\" class=\"reference\"><a href=\"#cite_note-ISS_stats-2\">[2]</a></sup></td></tr><tr><th scope=\"row\" class=\"infobox-label\"><a href=\"/wiki/Atmospheric_pressure\" title=\"Atmospheric pressure\">Atmospheric pressure</a></th><td class=\"infobox-data\">101.3&nbsp;<a href=\"/wiki/Pascal_(unit)\" title=\"Pascal (unit)\">kPa</a> (14.7&nbsp;<a href=\"/wiki/Pound_per_square_inch\" title=\"Pound per square inch\">psi</a>; 1.0&nbsp;<a href=\"/wiki/Atmosphere_(unit)\" class=\"mw-redirect\" title=\"Atmosphere (unit)\">atm</a>)<br>79% nitrogen, 21% oxygen</td></tr><tr><th scope=\"row\" class=\"infobox-label\"><a href=\"/wiki/Apsis\" title=\"Apsis\">Perigee altitude</a></th><td class=\"infobox-data\">413&nbsp;km (256.6&nbsp;mi) <a href=\"/wiki/Above_mean_sea_level\" class=\"mw-redirect\" title=\"Above mean sea level\">AMSL</a><sup id=\"cite_ref-heavens-above_3-0\" class=\"reference\"><a href=\"#cite_note-heavens-above-3\">[3]</a></sup></td></tr><tr><th scope=\"row\" class=\"infobox-label\"><a href=\"/wiki/Apsis\" title=\"Apsis\">Apogee altitude</a></th><td class=\"infobox-data\">422&nbsp;km (262.2&nbsp;mi) AMSL<sup id=\"cite_ref-heavens-above_3-1\" class=\"reference\"><a href=\"#cite_note-heavens-above-3\">[3]</a></sup></td></tr><tr><th scope=\"row\" class=\"infobox-label\"><a href=\"/wiki/Orbital_inclination\" title=\"Orbital inclination\">Orbital inclination</a></th><td class=\"infobox-data\">51.64°<sup id=\"cite_ref-heavens-above_3-2\" class=\"reference\"><a href=\"#cite_note-heavens-above-3\">[3]</a></sup></td></tr><tr><th scope=\"row\" class=\"infobox-label\">Orbital speed</th><td class=\"infobox-data\">7.66&nbsp;km/s<sup id=\"cite_ref-heavens-above_3-3\" class=\"reference\"><a href=\"#cite_note-heavens-above-3\">[3]</a></sup><sup class=\"noprint Inline-Template\" style=\"white-space:nowrap;\">[<i><a href=\"/wiki/Wikipedia:Verifiability\" title=\"Wikipedia:Verifiability\"><span title=\"Page does not mention orbital speed, just some of the other orbital parameters. This reference should be removed for this value? (May 2021)\">failed verification</span></a></i>]</sup>27,600&nbsp;km/h; 17,100&nbsp;mph</td></tr><tr><th scope=\"row\" class=\"infobox-label\"><a href=\"/wiki/Orbital_period\" title=\"Orbital period\">Orbital period</a></th><td class=\"infobox-data\">92.9 minutes<sup id=\"cite_ref-satellite-tracking_4-0\" class=\"reference\"><a href=\"#cite_note-satellite-tracking-4\">[4]</a></sup></td></tr><tr><th scope=\"row\" class=\"infobox-label\">Orbits per day</th><td class=\"infobox-data\">15.49<sup id=\"cite_ref-heavens-above_3-4\" class=\"reference\"><a href=\"#cite_note-heavens-above-3\">[3]</a></sup></td></tr><tr><th scope=\"row\" class=\"infobox-label\">Orbit <a href=\"/wiki/Epoch_(astronomy)\" title=\"Epoch (astronomy)\">epoch</a></th><td class=\"infobox-data\">12 October 2022 14:25:10\n",
       "<sup id=\"cite_ref-satellite-tracking_4-1\" class=\"reference\"><a href=\"#cite_note-satellite-tracking-4\">[4]</a></sup></td></tr><tr><th scope=\"row\" class=\"infobox-label\">Days in orbit</th><td class=\"infobox-data\">24&nbsp;years, 7&nbsp;months, 13&nbsp;days<br>(3 July 2023)</td></tr><tr><th scope=\"row\" class=\"infobox-label\">Days occupied</th><td class=\"infobox-data\">22&nbsp;years, 8&nbsp;months, 1&nbsp;day<br>(3 July 2023)</td></tr><tr><th scope=\"row\" class=\"infobox-label\"><abbr title=\"Number\">No.</abbr> of orbits</th><td class=\"infobox-data\">133,312\n",
       " as of June&nbsp;2022<sup class=\"plainlinks noexcerpt noprint asof-tag update\" style=\"display:none;\"><a class=\"external text\" href=\"https://en.wikipedia.org/w/index.php?title=International_Space_Station&amp;action=edit\">[update]</a></sup><sup id=\"cite_ref-5\" class=\"reference\"><a href=\"#cite_note-5\">[5]</a></sup></td></tr><tr><th scope=\"row\" class=\"infobox-label\"><a href=\"/wiki/Orbital_decay\" title=\"Orbital decay\">Orbital decay</a></th><td class=\"infobox-data\">2 km/month</td></tr><tr><td colspan=\"2\" class=\"infobox-below\" style=\"font-size:90%; line-height:15px; text-align:center;\">Statistics as of 22 December 2022<br>(unless noted otherwise)<br>References: <sup id=\"cite_ref-ISS_stats_2-3\" class=\"reference\"><a href=\"#cite_note-ISS_stats-2\">[2]</a></sup><sup id=\"cite_ref-heavens-above_3-5\" class=\"reference\"><a href=\"#cite_note-heavens-above-3\">[3]</a></sup><sup id=\"cite_ref-OnOrbit_6-0\" class=\"reference\"><a href=\"#cite_note-OnOrbit-6\">[6]</a></sup><sup id=\"cite_ref-7\" class=\"reference\"><a href=\"#cite_note-7\">[7]</a></sup><sup id=\"cite_ref-8\" class=\"reference\"><a href=\"#cite_note-8\">[8]</a></sup><link rel=\"mw-deduplicated-inline-style\" href=\"mw-data:TemplateStyles:r1066479718\"></td></tr><tr><td colspan=\"2\" class=\"infobox-subheader\" style=\"font-weight:bold;\">Configuration</td></tr><tr><td colspan=\"2\" class=\"infobox-image\"><a href=\"/wiki/File:ISS_configuration_2022-12_en.svg\" class=\"image\"><img alt=\"The components of the ISS in an exploded diagram, with modules on-orbit highlighted in orange.\" src=\"//upload.wikimedia.org/wikipedia/commons/thumb/8/80/ISS_configuration_2022-12_en.svg/240px-ISS_configuration_2022-12_en.svg.png\" decoding=\"async\" width=\"240\" height=\"157\" srcset=\"//upload.wikimedia.org/wikipedia/commons/thumb/8/80/ISS_configuration_2022-12_en.svg/360px-ISS_configuration_2022-12_en.svg.png 1.5x, //upload.wikimedia.org/wikipedia/commons/thumb/8/80/ISS_configuration_2022-12_en.svg/480px-ISS_configuration_2022-12_en.svg.png 2x\" data-file-width=\"1257\" data-file-height=\"820\"></a><div class=\"infobox-caption\" style=\"line-height:15px;\">Station elements as of December&nbsp;2022<sup class=\"plainlinks noexcerpt noprint asof-tag update\" style=\"display:none;\"><a class=\"external text\" href=\"https://en.wikipedia.org/w/index.php?title=International_Space_Station&amp;action=edit\">[update]</a></sup><br>(<a href=\"/wiki/Exploded-view_drawing\" title=\"Exploded-view drawing\">exploded view</a>)</div></td></tr><tr style=\"display:none\"><td colspan=\"2\">\n",
       "</td></tr></tbody></table>"
      ],
      "text/plain": [
       "<IPython.core.display.HTML object>"
      ]
     },
     "metadata": {},
     "output_type": "display_data"
    }
   ],
   "source": [
    "# for ipython notebook display\n",
    "# import IPython\n",
    "\n",
    "from IPython.core.display import display, HTML\n",
    "\n",
    "display(HTML(iss_table_html))\n",
    "\n"
   ]
  },
  {
   "cell_type": "markdown",
   "metadata": {},
   "source": [
    "#### Ref: https://medium.com/ymedialabs-innovation/web-scraping-using-beautiful-soup-and-selenium-for-dynamic-page-2f8ad15efe25\n",
    "#### Ref: https://towardsdatascience.com/in-10-minutes-web-scraping-with-beautiful-soup-and-selenium-for-data-professionals-8de169d36319\n",
    "#### Ref: https://towardsdatascience.com/real-world-example-on-web-scraping-with-selenium-and-beautiful-soup-3e615dbc1fa1\n"
   ]
  }
 ],
 "metadata": {
  "kernelspec": {
   "display_name": "Python 3 (ipykernel)",
   "language": "python",
   "name": "python3"
  },
  "language_info": {
   "codemirror_mode": {
    "name": "ipython",
    "version": 3
   },
   "file_extension": ".py",
   "mimetype": "text/x-python",
   "name": "python",
   "nbconvert_exporter": "python",
   "pygments_lexer": "ipython3",
   "version": "3.11.3"
  }
 },
 "nbformat": 4,
 "nbformat_minor": 4
}
