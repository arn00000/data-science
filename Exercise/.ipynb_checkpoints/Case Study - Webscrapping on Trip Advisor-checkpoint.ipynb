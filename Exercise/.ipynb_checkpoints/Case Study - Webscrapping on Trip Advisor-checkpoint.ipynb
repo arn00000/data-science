{
 "cells": [
  {
   "cell_type": "markdown",
   "metadata": {},
   "source": [
    "<img src=\"https://i.imgur.com/FoKB5Z5.png\" align=\"left\" width=\"300\" height=\"250\" title=\"source: imgur.com\" /></a>"
   ]
  },
  {
   "cell_type": "markdown",
   "metadata": {},
   "source": [
    "## Program Code: J620-002-4:2020 \n",
    "\n",
    "## Program Name: FRONT-END SOFTWARE DEVELOPMENT\n",
    "\n",
    "## Title :  Case Study - Webscrapping on Trip Advisor\n",
    "\n",
    "#### Name: Ooi Caaron\n",
    "\n",
    "#### IC Number: 990701-07-5837\n",
    "\n",
    "#### Date : 4/7/23\n",
    "\n",
    "#### Introduction : Exercise using BeautifulSoup and Selenium is a practical exercise that involves utilizing two powerful tools, BeautifulSoup and Selenium, for web scraping and web automation tasks. \n",
    "\n",
    "\n",
    "\n",
    "#### Conclusion : Still need to practice more and do revision\n",
    "\n",
    "\n",
    "\n",
    "\n"
   ]
  },
  {
   "cell_type": "markdown",
   "metadata": {},
   "source": [
    "Instruction: Use Selenium and Beautiful Soup to extract the first 5 comments and their titles from the trip advisor link.\n",
    "\n",
    "Url: https://www.tripadvisor.com/Airline_Review-d8729220-Reviews-AirAsia-AirAsia-Berhad-Malaysia"
   ]
  },
  {
   "cell_type": "code",
   "execution_count": 1,
   "metadata": {},
   "outputs": [],
   "source": [
    "from selenium import webdriver\n",
    "from bs4 import BeautifulSoup\n",
    "import time\n",
    "\n",
    "driver = webdriver.Chrome('C:\\GoogleDriver\\chromedriver')\n",
    "driver.get(\"https://www.tripadvisor.com/Airline_Review-d8729220-Reviews-AirAsia-AirAsia-Berhad-Malaysia\")"
   ]
  },
  {
   "cell_type": "code",
   "execution_count": 2,
   "metadata": {},
   "outputs": [
    {
     "name": "stdout",
     "output_type": "stream",
     "text": [
      "[<a class=\"Qwuub\" href=\"/ShowUserReviews-g1-d8729220-r899309304-AirAsia_AirAsia_Berhad_Malaysia-World.html\" rel=\"noopener\" target=\"_blank\"><span><span>No refund from Aiaasia for flight cancellation more than 8 months</span></span></a>, <a class=\"Qwuub\" href=\"/ShowUserReviews-g1-d8729220-r899073695-AirAsia_AirAsia_Berhad_Malaysia-World.html\" rel=\"noopener\" target=\"_blank\"><span><span>Not good</span></span></a>, <a class=\"Qwuub\" href=\"/ShowUserReviews-g1-d8729220-r898536056-AirAsia_AirAsia_Berhad_Malaysia-World.html\" rel=\"noopener\" target=\"_blank\"><span><span>Don’t use this airline</span></span></a>, <a class=\"Qwuub\" href=\"/ShowUserReviews-g1-d8729220-r896952984-AirAsia_AirAsia_Berhad_Malaysia-World.html\" rel=\"noopener\" target=\"_blank\"><span><span>The staffs are very very rude</span></span></a>, <a class=\"Qwuub\" href=\"/ShowUserReviews-g1-d8729220-r896094812-AirAsia_AirAsia_Berhad_Malaysia-World.html\" rel=\"noopener\" target=\"_blank\"><span><span>No in-flight entertainment</span></span></a>]\n",
      "[<a class=\"Qwuub\" href=\"/ShowUserReviews-g1-d8729220-r899309304-AirAsia_AirAsia_Berhad_Malaysia-World.html\" rel=\"noopener\" target=\"_blank\"><span><span>No refund from Aiaasia for flight cancellation more than 8 months</span></span></a>, <a class=\"Qwuub\" href=\"/ShowUserReviews-g1-d8729220-r899073695-AirAsia_AirAsia_Berhad_Malaysia-World.html\" rel=\"noopener\" target=\"_blank\"><span><span>Not good</span></span></a>, <a class=\"Qwuub\" href=\"/ShowUserReviews-g1-d8729220-r898536056-AirAsia_AirAsia_Berhad_Malaysia-World.html\" rel=\"noopener\" target=\"_blank\"><span><span>Don’t use this airline</span></span></a>, <a class=\"Qwuub\" href=\"/ShowUserReviews-g1-d8729220-r896952984-AirAsia_AirAsia_Berhad_Malaysia-World.html\" rel=\"noopener\" target=\"_blank\"><span><span>The staffs are very very rude</span></span></a>, <a class=\"Qwuub\" href=\"/ShowUserReviews-g1-d8729220-r896094812-AirAsia_AirAsia_Berhad_Malaysia-World.html\" rel=\"noopener\" target=\"_blank\"><span><span>No in-flight entertainment</span></span></a>]\n",
      "[<a class=\"Qwuub\" href=\"/ShowUserReviews-g1-d8729220-r899309304-AirAsia_AirAsia_Berhad_Malaysia-World.html\" rel=\"noopener\" target=\"_blank\"><span><span>No refund from Aiaasia for flight cancellation more than 8 months</span></span></a>, <a class=\"Qwuub\" href=\"/ShowUserReviews-g1-d8729220-r899073695-AirAsia_AirAsia_Berhad_Malaysia-World.html\" rel=\"noopener\" target=\"_blank\"><span><span>Not good</span></span></a>, <a class=\"Qwuub\" href=\"/ShowUserReviews-g1-d8729220-r898536056-AirAsia_AirAsia_Berhad_Malaysia-World.html\" rel=\"noopener\" target=\"_blank\"><span><span>Don’t use this airline</span></span></a>, <a class=\"Qwuub\" href=\"/ShowUserReviews-g1-d8729220-r896952984-AirAsia_AirAsia_Berhad_Malaysia-World.html\" rel=\"noopener\" target=\"_blank\"><span><span>The staffs are very very rude</span></span></a>, <a class=\"Qwuub\" href=\"/ShowUserReviews-g1-d8729220-r896094812-AirAsia_AirAsia_Berhad_Malaysia-World.html\" rel=\"noopener\" target=\"_blank\"><span><span>No in-flight entertainment</span></span></a>]\n",
      "[<a class=\"Qwuub\" href=\"/ShowUserReviews-g1-d8729220-r899309304-AirAsia_AirAsia_Berhad_Malaysia-World.html\" rel=\"noopener\" target=\"_blank\"><span><span>No refund from Aiaasia for flight cancellation more than 8 months</span></span></a>, <a class=\"Qwuub\" href=\"/ShowUserReviews-g1-d8729220-r899073695-AirAsia_AirAsia_Berhad_Malaysia-World.html\" rel=\"noopener\" target=\"_blank\"><span><span>Not good</span></span></a>, <a class=\"Qwuub\" href=\"/ShowUserReviews-g1-d8729220-r898536056-AirAsia_AirAsia_Berhad_Malaysia-World.html\" rel=\"noopener\" target=\"_blank\"><span><span>Don’t use this airline</span></span></a>, <a class=\"Qwuub\" href=\"/ShowUserReviews-g1-d8729220-r896952984-AirAsia_AirAsia_Berhad_Malaysia-World.html\" rel=\"noopener\" target=\"_blank\"><span><span>The staffs are very very rude</span></span></a>, <a class=\"Qwuub\" href=\"/ShowUserReviews-g1-d8729220-r896094812-AirAsia_AirAsia_Berhad_Malaysia-World.html\" rel=\"noopener\" target=\"_blank\"><span><span>No in-flight entertainment</span></span></a>]\n",
      "[<a class=\"Qwuub\" href=\"/ShowUserReviews-g1-d8729220-r899309304-AirAsia_AirAsia_Berhad_Malaysia-World.html\" rel=\"noopener\" target=\"_blank\"><span><span>No refund from Aiaasia for flight cancellation more than 8 months</span></span></a>, <a class=\"Qwuub\" href=\"/ShowUserReviews-g1-d8729220-r899073695-AirAsia_AirAsia_Berhad_Malaysia-World.html\" rel=\"noopener\" target=\"_blank\"><span><span>Not good</span></span></a>, <a class=\"Qwuub\" href=\"/ShowUserReviews-g1-d8729220-r898536056-AirAsia_AirAsia_Berhad_Malaysia-World.html\" rel=\"noopener\" target=\"_blank\"><span><span>Don’t use this airline</span></span></a>, <a class=\"Qwuub\" href=\"/ShowUserReviews-g1-d8729220-r896952984-AirAsia_AirAsia_Berhad_Malaysia-World.html\" rel=\"noopener\" target=\"_blank\"><span><span>The staffs are very very rude</span></span></a>, <a class=\"Qwuub\" href=\"/ShowUserReviews-g1-d8729220-r896094812-AirAsia_AirAsia_Berhad_Malaysia-World.html\" rel=\"noopener\" target=\"_blank\"><span><span>No in-flight entertainment</span></span></a>]\n"
     ]
    }
   ],
   "source": [
    "# driver.find_element_by_xpath('/html/body/div[2]/div/div/div[5]/div/div/div[1]/div[2]/div[1]/div[2]/div/div[8]/div/a').click()\n",
    "# soup = BeautifulSoup(driver.page_source,'html.parser')\n",
    "# title = soup.findAll(\"a\", attrs={\"class\":\"Qwuub\"})\n",
    "# comment = soup.findAll(\"div\",attrs={\"class\":\"fIrGe _T\"})\n",
    "# elements = soup.find_all(\"a\", class_=\"Qwuub\")\n",
    "\n",
    "# Iterate over the first five elements and print their text\n",
    "# for i in range(5):\n",
    "#     if i < len(title):\n",
    "#         print(f'Title: {title[i].text}')\n",
    "#         print(f'Comment: {comment[i].text}')\n",
    "#         print('')\n",
    "#     else:\n",
    "#         break\n",
    "all_comments = []\n",
    "for page in range(1, 6):\n",
    "    soup = BeautifulSoup(driver.page_source, 'html.parser')\n",
    "    titles = soup.findAll(\"a\", attrs={\"class\": \"Qwuub\"})\n",
    "    comments = soup.findAll(\"div\", attrs={\"class\": \"fIrGe _T\"})\n",
    "    \n",
    "    for i in range(5):\n",
    "        title = titles[i].text\n",
    "        comment = comments[i+1].text\n",
    "        all_comments.append(f'{title}:\\n{comment}')\n",
    "    if page == 1:\n",
    "        next_button = driver.find_element_by_xpath('//*[@id=\"component_1\"]/div/div[5]/div/div/div/div[2]/div[1]/div[2]/div/div[8]/div/a')\n",
    "        next_button.click()\n",
    "    else:\n",
    "        next_button = driver.find_element_by_xpath('//*[@id=\"component_1\"]/div/div[5]/div/div/div/div[2]/div[1]/div[2]/div/div[8]/div/a[2]')\n",
    "        next_button.click()\n",
    "    time.sleep(2) \n",
    "    \n",
    "for i, comment in enumerate(all_comments):\n",
    "    print(f\"Comment {i+1}: {comment}\")\n",
    "    print('')"
   ]
  },
  {
   "cell_type": "markdown",
   "metadata": {},
   "source": [
    "Reference: https://medium.com/ymedialabs-innovation/web-scraping-using-beautiful-soup-and-selenium-for-dynamic-page-2f8ad15efe25\n"
   ]
  }
 ],
 "metadata": {
  "kernelspec": {
   "display_name": "Python 3 (ipykernel)",
   "language": "python",
   "name": "python3"
  },
  "language_info": {
   "codemirror_mode": {
    "name": "ipython",
    "version": 3
   },
   "file_extension": ".py",
   "mimetype": "text/x-python",
   "name": "python",
   "nbconvert_exporter": "python",
   "pygments_lexer": "ipython3",
   "version": "3.11.3"
  }
 },
 "nbformat": 4,
 "nbformat_minor": 4
}
