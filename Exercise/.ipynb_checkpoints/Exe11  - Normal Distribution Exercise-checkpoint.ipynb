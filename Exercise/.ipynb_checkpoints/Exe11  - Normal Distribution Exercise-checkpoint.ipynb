{
 "cells": [
  {
   "cell_type": "markdown",
   "metadata": {},
   "source": [
    "<img src=\"https://i.imgur.com/FoKB5Z5.png\" align=\"left\" width=\"300\" height=\"250\" title=\"source: imgur.com\" /></a>"
   ]
  },
  {
   "cell_type": "markdown",
   "metadata": {},
   "source": [
    "## Program Code: J620-002-4:2020 \n",
    "\n",
    "## Program Name: FRONT-END SOFTWARE DEVELOPMENT\n",
    "\n",
    "## Title :  Exe11  - Normal Distribution Exercise\n",
    "\n",
    "#### Name: Ooi Caaron\n",
    "\n",
    "#### IC Number: 990701-07-5837\n",
    "\n",
    "#### Date : 16/7/2023\n",
    "\n",
    "#### Introduction : Learning normal distribution and use the build in method\n",
    "\n",
    "\n",
    "\n",
    "#### Conclusion :Still need to practice more and do revision\n",
    "\n",
    "\n",
    "\n",
    "\n"
   ]
  },
  {
   "cell_type": "markdown",
   "metadata": {},
   "source": [
    "# Normal Distribution\n",
    "\n",
    "The normal distribution is defined by the following probability density function, where $\\mu$ is the population mean and $\\sigma^2$ is the variance.\n",
    "\n",
    "$$f(x) = \\frac{1}{\\sigma\\sqrt{2\\pi}}e^{-(x-\\mu)^2/2\\sigma^2}$$\n",
    "   \n",
    "If a random variable X follows the normal distribution, then we write:\n",
    "\n",
    "$$X \\sim  N (\\mu,\\sigma^2)$$\n",
    "\n",
    "In particular, the normal distribution with $\\mu = 0$ and $\\sigma = 1$ is called the `standard normal distribution`, and is denoted as `N(0,1`). It can be graphed as follows.\n",
    "\n",
    "The normal distribution is important because of the **Central Limit Theorem**, which states that the population of all possible samples of size $n$ from a population with mean μ and variance $\\sigma^2$ approaches a normal distribution with mean $\\mu$ and $\\frac{\\sigma^2}{n}$ when $n$ approaches infinity.\n",
    "\n",
    "Read and understand more about **Central Limit Theorem (CLT)** [here](https://statisticsbyjim.com/basics/central-limit-theorem/)"
   ]
  },
  {
   "cell_type": "code",
   "execution_count": 33,
   "metadata": {},
   "outputs": [],
   "source": [
    "from scipy.stats import norm\n",
    "import math\n",
    "import numpy as np"
   ]
  },
  {
   "cell_type": "markdown",
   "metadata": {},
   "source": [
    "## Question 1\n",
    "\n",
    "Suppose widgit weights produced at MS Widgit Works have weights that are normally distributed with mean 17.46 grams and variance 375.67 grams. What is the probability that a randomly chosen widgit weighs more then 19 grams?"
   ]
  },
  {
   "cell_type": "code",
   "execution_count": 6,
   "metadata": {},
   "outputs": [
    {
     "data": {
      "text/plain": [
       "0.46833563578991133"
      ]
     },
     "execution_count": 6,
     "metadata": {},
     "output_type": "execute_result"
    }
   ],
   "source": [
    "v = math.sqrt(375.67)\n",
    "1 - norm.cdf(19,17.46,v)"
   ]
  },
  {
   "cell_type": "markdown",
   "metadata": {},
   "source": [
    "## Question 2\n",
    "\n",
    "Suppose IQ scores are normally distributed with mean 100 and standard deviation 15. What is the 95th percentile of the distribution of IQ scores?"
   ]
  },
  {
   "cell_type": "code",
   "execution_count": 12,
   "metadata": {},
   "outputs": [
    {
     "data": {
      "text/plain": [
       "124.67280440427209"
      ]
     },
     "execution_count": 12,
     "metadata": {},
     "output_type": "execute_result"
    }
   ],
   "source": [
    "norm.ppf(0.95,100,15)\n"
   ]
  },
  {
   "cell_type": "markdown",
   "metadata": {},
   "source": [
    "## Question 3\n",
    "\n",
    "Suppose wages are normally distributed with a mean of 1900 and a standard deviation of 150. \n",
    "\n",
    "1. What percentage of people have wages less than 1800?\n",
    "2. What percentage of people have wages greater than 2100?\n",
    "3. What percentage of people have wages between 1800 and 2100?\n",
    "4. What wages separate the top 10% from the others?\n",
    "5. What wages separate the lower 25% from the others? "
   ]
  },
  {
   "cell_type": "code",
   "execution_count": 21,
   "metadata": {},
   "outputs": [
    {
     "name": "stdout",
     "output_type": "stream",
     "text": [
      "0.2524925375469229\n",
      "0.09121121972586788\n",
      "0.6562962427272092\n",
      "2092.23273483169\n",
      "1798.8265374705877\n"
     ]
    }
   ],
   "source": [
    "#1\n",
    "print(norm.cdf(1800,1900,150))\n",
    "\n",
    "#2\n",
    "print(1-norm.cdf(2100,1900,150))\n",
    "\n",
    "#3\n",
    "print(norm.cdf(2100,1900,150) - norm.cdf(1800,1900,150))\n",
    "\n",
    "#4\n",
    "print(norm.ppf(0.9,1900,150))\n",
    "\n",
    "#5\n",
    "print(norm.ppf(0.25,1900,150))"
   ]
  },
  {
   "cell_type": "markdown",
   "metadata": {},
   "source": [
    "## Question 4\n",
    "\n",
    "Based on the Ages of Death during the Spanish Flu, 1918.\n",
    "\n",
    "Demonstration of the central limit theorem, using the distribution of sample mean age at death in samples from a highly non-normal distribution: the frequency distribution of age at death in Switzerland in 1918 during the Spanish flu epidemic."
   ]
  },
  {
   "cell_type": "code",
   "execution_count": 34,
   "metadata": {},
   "outputs": [
    {
     "data": {
      "text/html": [
       "<div>\n",
       "<style scoped>\n",
       "    .dataframe tbody tr th:only-of-type {\n",
       "        vertical-align: middle;\n",
       "    }\n",
       "\n",
       "    .dataframe tbody tr th {\n",
       "        vertical-align: top;\n",
       "    }\n",
       "\n",
       "    .dataframe thead th {\n",
       "        text-align: right;\n",
       "    }\n",
       "</style>\n",
       "<table border=\"1\" class=\"dataframe\">\n",
       "  <thead>\n",
       "    <tr style=\"text-align: right;\">\n",
       "      <th></th>\n",
       "      <th>age</th>\n",
       "    </tr>\n",
       "  </thead>\n",
       "  <tbody>\n",
       "    <tr>\n",
       "      <th>0</th>\n",
       "      <td>0</td>\n",
       "    </tr>\n",
       "    <tr>\n",
       "      <th>1</th>\n",
       "      <td>0</td>\n",
       "    </tr>\n",
       "    <tr>\n",
       "      <th>2</th>\n",
       "      <td>0</td>\n",
       "    </tr>\n",
       "    <tr>\n",
       "      <th>3</th>\n",
       "      <td>0</td>\n",
       "    </tr>\n",
       "    <tr>\n",
       "      <th>4</th>\n",
       "      <td>0</td>\n",
       "    </tr>\n",
       "  </tbody>\n",
       "</table>\n",
       "</div>"
      ],
      "text/plain": [
       "   age\n",
       "0    0\n",
       "1    0\n",
       "2    0\n",
       "3    0\n",
       "4    0"
      ]
     },
     "execution_count": 34,
     "metadata": {},
     "output_type": "execute_result"
    }
   ],
   "source": [
    "## Question 4\n",
    "\n",
    "import pandas as pd\n",
    "import matplotlib.pyplot as plt\n",
    "%matplotlib inline\n",
    "\n",
    "path=\"http://whitlockschluter.zoology.ubc.ca/wp-content/data/chapter10/chap10e6AgesAtDeathSpanishFlu1918.csv\"\n",
    "flu = pd.read_csv(path)\n",
    "flu.head()"
   ]
  },
  {
   "cell_type": "markdown",
   "metadata": {},
   "source": [
    "Histogram showing the frequency distribution of ages at death in Switzerland in 1918 during the Spanish flu epidemic."
   ]
  },
  {
   "cell_type": "code",
   "execution_count": 24,
   "metadata": {},
   "outputs": [
    {
     "data": {
      "text/plain": [
       "<Axes: ylabel='Frequency'>"
      ]
     },
     "execution_count": 24,
     "metadata": {},
     "output_type": "execute_result"
    },
    {
     "data": {
      "image/png": "[encoded data removed]",
      "text/plain": [
       "<Figure size 640x480 with 1 Axes>"
      ]
     },
     "metadata": {},
     "output_type": "display_data"
    }
   ],
   "source": [
    "flu.plot.hist()\n"
   ]
  },
  {
   "cell_type": "markdown",
   "metadata": {},
   "source": [
    "Histogram with better binning (0,102,2) and axis labels"
   ]
  },
  {
   "cell_type": "code",
   "execution_count": 25,
   "metadata": {},
   "outputs": [
    {
     "data": {
      "text/plain": [
       "(array([6.409e+03, 1.307e+03, 7.230e+02, 5.040e+02, 4.450e+02, 3.680e+02,\n",
       "        3.680e+02, 3.000e+02, 2.480e+02, 2.710e+02, 2.330e+02, 2.700e+02,\n",
       "        2.380e+02, 2.810e+02, 3.350e+02, 3.960e+02, 5.440e+02, 6.200e+02,\n",
       "        6.960e+02, 8.400e+02, 9.230e+02, 9.440e+02, 9.860e+02, 1.062e+03,\n",
       "        1.076e+03, 1.117e+03, 1.105e+03, 1.144e+03, 1.166e+03, 1.100e+03,\n",
       "        1.075e+03, 1.027e+03, 9.920e+02, 9.970e+02, 8.320e+02, 8.770e+02,\n",
       "        8.720e+02, 7.850e+02, 7.330e+02, 7.570e+02, 7.510e+02, 6.890e+02,\n",
       "        7.270e+02, 7.380e+02, 5.980e+02, 6.220e+02, 6.290e+02, 6.170e+02,\n",
       "        6.970e+02, 5.740e+02, 0.000e+00, 5.910e+02, 6.610e+02, 6.560e+02,\n",
       "        7.450e+02, 7.940e+02, 7.910e+02, 7.920e+02, 8.140e+02, 7.990e+02,\n",
       "        8.490e+02, 8.480e+02, 9.470e+02, 9.090e+02, 8.390e+02, 8.910e+02,\n",
       "        9.940e+02, 9.660e+02, 1.039e+03, 1.135e+03, 1.154e+03, 1.054e+03,\n",
       "        1.190e+03, 1.229e+03, 1.221e+03, 1.171e+03, 1.189e+03, 1.112e+03,\n",
       "        1.030e+03, 1.039e+03, 9.220e+02, 7.530e+02, 7.270e+02, 6.770e+02,\n",
       "        5.790e+02, 5.010e+02, 3.920e+02, 3.540e+02, 2.990e+02, 2.240e+02,\n",
       "        1.440e+02, 1.330e+02, 1.000e+02, 5.600e+01, 4.300e+01, 3.000e+01,\n",
       "        1.600e+01, 1.100e+01, 6.000e+00, 6.000e+00, 3.000e+00, 1.000e+00]),\n",
       " array([  0.        ,   0.98039216,   1.96078431,   2.94117647,\n",
       "          3.92156863,   4.90196078,   5.88235294,   6.8627451 ,\n",
       "          7.84313725,   8.82352941,   9.80392157,  10.78431373,\n",
       "         11.76470588,  12.74509804,  13.7254902 ,  14.70588235,\n",
       "         15.68627451,  16.66666667,  17.64705882,  18.62745098,\n",
       "         19.60784314,  20.58823529,  21.56862745,  22.54901961,\n",
       "         23.52941176,  24.50980392,  25.49019608,  26.47058824,\n",
       "         27.45098039,  28.43137255,  29.41176471,  30.39215686,\n",
       "         31.37254902,  32.35294118,  33.33333333,  34.31372549,\n",
       "         35.29411765,  36.2745098 ,  37.25490196,  38.23529412,\n",
       "         39.21568627,  40.19607843,  41.17647059,  42.15686275,\n",
       "         43.1372549 ,  44.11764706,  45.09803922,  46.07843137,\n",
       "         47.05882353,  48.03921569,  49.01960784,  50.        ,\n",
       "         50.98039216,  51.96078431,  52.94117647,  53.92156863,\n",
       "         54.90196078,  55.88235294,  56.8627451 ,  57.84313725,\n",
       "         58.82352941,  59.80392157,  60.78431373,  61.76470588,\n",
       "         62.74509804,  63.7254902 ,  64.70588235,  65.68627451,\n",
       "         66.66666667,  67.64705882,  68.62745098,  69.60784314,\n",
       "         70.58823529,  71.56862745,  72.54901961,  73.52941176,\n",
       "         74.50980392,  75.49019608,  76.47058824,  77.45098039,\n",
       "         78.43137255,  79.41176471,  80.39215686,  81.37254902,\n",
       "         82.35294118,  83.33333333,  84.31372549,  85.29411765,\n",
       "         86.2745098 ,  87.25490196,  88.23529412,  89.21568627,\n",
       "         90.19607843,  91.17647059,  92.15686275,  93.1372549 ,\n",
       "         94.11764706,  95.09803922,  96.07843137,  97.05882353,\n",
       "         98.03921569,  99.01960784, 100.        ]),\n",
       " <BarContainer object of 102 artists>)"
      ]
     },
     "execution_count": 25,
     "metadata": {},
     "output_type": "execute_result"
    },
    {
     "data": {
      "image/png": "[encoded data removed]",
      "text/plain": [
       "<Figure size 640x480 with 1 Axes>"
      ]
     },
     "metadata": {},
     "output_type": "display_data"
    }
   ],
   "source": [
    "plt.hist(flu['age'],bins=102)"
   ]
  },
  {
   "cell_type": "markdown",
   "metadata": {},
   "source": [
    "Demonstrate the **central limit theorem**. Treat the age at death measurements from Switzerland in 1918 as the population. Take a large number of random samples, each of size $n$, from the population of age at death measurements and plot the sample means.\n",
    "\n",
    "Note: your results won’t be the identical to the one shown below, because 10,000 random samples is not large enough for extreme accuracy. Change the $n$ below to another number and rerun to see the effects of sample size on the shape of the distribution of sample means.\n",
    "\n",
    "Write a loop to sample 10000 times from 'Age'. Each time, collect 4 samples. Store the average age in a new variable, `age1`. Plot the histogram for `age1`."
   ]
  },
  {
   "cell_type": "code",
   "execution_count": 32,
   "metadata": {},
   "outputs": [
    {
     "data": {
      "text/plain": [
       "Text(0, 0.5, 'Frequency')"
      ]
     },
     "execution_count": 32,
     "metadata": {},
     "output_type": "execute_result"
    },
    {
     "data": {
      "image/png": "[encoded data removed]",
      "text/plain": [
       "<Figure size 640x480 with 1 Axes>"
      ]
     },
     "metadata": {},
     "output_type": "display_data"
    }
   ],
   "source": [
    "\n",
    "import random\n",
    "random.seed(1234)\n",
    "age1 = [ ]\n",
    "\n",
    "for x in range(10000):\n",
    "    sample_list = flu.sample(n=4)\n",
    "    age1.append(sample_list['age'].mean())\n",
    "\n",
    "plt.hist(age1, density = True, bins = 10)\n",
    "plt.xlabel('Average Age (years)')\n",
    "plt.ylabel('Frequency')"
   ]
  },
  {
   "cell_type": "code",
   "execution_count": 6,
   "metadata": {},
   "outputs": [
    {
     "data": {
      "image/png": "[encoded data removed]",
      "text/plain": [
       "<Figure size 432x288 with 1 Axes>"
      ]
     },
     "metadata": {
      "needs_background": "light"
     },
     "output_type": "display_data"
    }
   ],
   "source": []
  },
  {
   "cell_type": "markdown",
   "metadata": {},
   "source": [
    "Histogram of the sample means with more options"
   ]
  },
  {
   "cell_type": "code",
   "execution_count": 36,
   "metadata": {},
   "outputs": [
    {
     "data": {
      "text/plain": [
       "Text(0, 0.5, 'Frequency')"
      ]
     },
     "execution_count": 36,
     "metadata": {},
     "output_type": "execute_result"
    },
    {
     "data": {
      "image/png": "[encoded data removed]",
      "text/plain": [
       "<Figure size 640x480 with 1 Axes>"
      ]
     },
     "metadata": {},
     "output_type": "display_data"
    }
   ],
   "source": [
    "plt.hist(age1, density = True, bins = 50, edgecolor = 'black', color = 'red')\n",
    "plt.xlabel('Age at time of death (years)')\n",
    "plt.ylabel('Frequency')"
   ]
  },
  {
   "cell_type": "code",
   "execution_count": null,
   "metadata": {},
   "outputs": [],
   "source": []
  }
 ],
 "metadata": {
  "kernelspec": {
   "display_name": "Python 3 (ipykernel)",
   "language": "python",
   "name": "python3"
  },
  "language_info": {
   "codemirror_mode": {
    "name": "ipython",
    "version": 3
   },
   "file_extension": ".py",
   "mimetype": "text/x-python",
   "name": "python",
   "nbconvert_exporter": "python",
   "pygments_lexer": "ipython3",
   "version": "3.11.3"
  }
 },
 "nbformat": 4,
 "nbformat_minor": 4
}
